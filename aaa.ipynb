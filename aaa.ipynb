{
 "cells": [
  {
   "cell_type": "code",
   "execution_count": 2,
   "metadata": {},
   "outputs": [],
   "source": [
    "import os\n",
    "\n",
    "def browse_and_keep_four_files(path):\n",
    "    \"\"\"Recursively browse through directories and keep only four files in each directory.\"\"\"\n",
    "    if os.path.isdir(path):\n",
    "        # Get a list of all files and directories in the current path\n",
    "        items = os.listdir(path)\n",
    "\n",
    "        # Keep only files (not directories) and sort them by modification time (newest first)\n",
    "        files = [os.path.join(path, item) for item in items if os.path.isfile(os.path.join(path, item))]\n",
    "        files.sort(key=lambda x: os.path.getmtime(x), reverse=True)\n",
    "\n",
    "        # Keep the first four files and delete the rest\n",
    "        for file in files[4:]:\n",
    "            os.remove(file)\n",
    "\n",
    "        # Recursively browse through subdirectories\n",
    "        for item in items:\n",
    "            subpath = os.path.join(path, item)\n",
    "            browse_and_keep_four_files(subpath)"
   ]
  },
  {
   "cell_type": "code",
   "execution_count": 3,
   "metadata": {},
   "outputs": [],
   "source": [
    "root_path = 'C:/Users/bouss/Downloads/train1'\n",
    "browse_and_keep_four_files(root_path)"
   ]
  },
  {
   "cell_type": "code",
   "execution_count": null,
   "metadata": {},
   "outputs": [],
   "source": []
  }
 ],
 "metadata": {
  "kernelspec": {
   "display_name": "Python 3",
   "language": "python",
   "name": "python3"
  },
  "language_info": {
   "codemirror_mode": {
    "name": "ipython",
    "version": 3
   },
   "file_extension": ".py",
   "mimetype": "text/x-python",
   "name": "python",
   "nbconvert_exporter": "python",
   "pygments_lexer": "ipython3",
   "version": "3.10.10"
  },
  "orig_nbformat": 4,
  "vscode": {
   "interpreter": {
    "hash": "4ddf84112233400ebd8dfc0bbc49686b1df1ee19683165afec45e662de9db201"
   }
  }
 },
 "nbformat": 4,
 "nbformat_minor": 2
}
